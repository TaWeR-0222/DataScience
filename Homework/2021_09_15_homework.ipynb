{
 "cells": [
  {
   "cell_type": "code",
   "execution_count": 35,
   "id": "c0a064dc-b8f2-4fe5-942a-8be089eebe28",
   "metadata": {},
   "outputs": [
    {
     "name": "stdout",
     "output_type": "stream",
     "text": [
      "======================\n",
      "Customer One Items: \n",
      "Lovely Loveseat. Tufted polyester blend on wood. 32 inches high x 40 inches wide x 30 inches deep. Red or white. / Luxurious Lamp. Glass and iron. 36 inches tall. Brown with cream shade.\n",
      "Customer One Total: \n",
      "333.09119999999996\n",
      "======================\n"
     ]
    }
   ],
   "source": [
    "\n",
    "\n",
    "\n",
    "\n",
    "# 상품설명\n",
    "lovely_loveseat_description = \"Lovely Loveseat. Tufted polyester blend on wood. 32 inches high x 40 inches wide x 30 inches deep. Red or white.\"\n",
    "stylish_settee_description = \"Stylish Settee. Faux leather on birch. 29.50 inches high x 54.75 inches wide x 28 inches deep. Black.\"\n",
    "luxurious_lamp_description = \"Luxurious Lamp. Glass and iron. 36 inches tall. Brown with cream shade.\"\n",
    "\n",
    "\n",
    "# 상품가격\n",
    "lovely_loveseat_price = 254.00\n",
    "stylish_settee_price = 180.50\n",
    "luxurious_lamp_price = 52.15\n",
    "\n",
    "\n",
    "# 세금\n",
    "sales_tax = 0.088\n",
    "\n",
    "# 금액 총합을 만들기 위함 _ 0.000으로 기본값 설정\n",
    "customer_one_total = 0.000\n",
    "# 구매한 상품을 출력하기 위함 _ \"\"으로 기본값 설정\n",
    "customer_one_itemization = \"\"\n",
    "\n",
    "\n",
    "\"\"\"\n",
    "계산과정\n",
    "\"\"\"\n",
    "\n",
    "# 금액총합에 쇼파가격 추가\n",
    "customer_one_total += lovely_loveseat_price\n",
    "# 구매한 쇼파의 설명 추가\n",
    "customer_one_itemization += lovely_loveseat_description\n",
    "\n",
    "# 금액총합에 램프가격 추가\n",
    "customer_one_total += luxurious_lamp_price\n",
    "# 구매한 램프의 설명 추가 _ 가운데에 /표시로 나누어줌\n",
    "customer_one_itemization += \" / \" +luxurious_lamp_description\n",
    "\n",
    "# 세금산출 = 금액총합x세금비율\n",
    "customer_one_tax = customer_one_total*sales_tax\n",
    "\n",
    "\n",
    "\"\"\"\n",
    "영수증 출력\n",
    "\"\"\"\n",
    "\n",
    "# 그냥 장식...ㅎ\n",
    "print(\"======================\")\n",
    "\n",
    "# 구매한 아이템 설명들 출력\n",
    "print(\"Customer One Items: \")\n",
    "print(customer_one_itemization)\n",
    "\n",
    "# 최종 결제금액 출력 = 총합+산출된 세금\n",
    "print(\"Customer One Total: \")\n",
    "print(customer_one_total + customer_one_tax)\n",
    "\n",
    "# 얘도 그냥 장식...ㅎ\n",
    "print(\"======================\")\n"
   ]
  },
  {
   "cell_type": "code",
   "execution_count": null,
   "id": "582b8c17-cc0b-4acb-8d6d-25778228473b",
   "metadata": {},
   "outputs": [],
   "source": []
  }
 ],
 "metadata": {
  "kernelspec": {
   "display_name": "Python 3",
   "language": "python",
   "name": "python3"
  },
  "language_info": {
   "codemirror_mode": {
    "name": "ipython",
    "version": 3
   },
   "file_extension": ".py",
   "mimetype": "text/x-python",
   "name": "python",
   "nbconvert_exporter": "python",
   "pygments_lexer": "ipython3",
   "version": "3.8.8"
  }
 },
 "nbformat": 4,
 "nbformat_minor": 5
}
